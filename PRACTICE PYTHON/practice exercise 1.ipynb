{
 "cells": [
  {
   "cell_type": "code",
   "execution_count": 1,
   "metadata": {},
   "outputs": [
    {
     "name": "stdout",
     "output_type": "stream",
     "text": [
      "this is double backsalsh \\\\\n"
     ]
    }
   ],
   "source": [
    "# this is double backslash \\\\\n",
    "print(\"this is double backsalsh \\\\\\\\\")"
   ]
  },
  {
   "cell_type": "code",
   "execution_count": 13,
   "metadata": {},
   "outputs": [
    {
     "name": "stdout",
     "output_type": "stream",
     "text": [
      "these are  /\\/\\/\\/\\ mountains\n"
     ]
    }
   ],
   "source": [
    "# these are  /\\/\\/\\/\\/\\ mountains\n",
    "print (\"these are  /\\/\\/\\/\\ mountains\")"
   ]
  },
  {
   "cell_type": "code",
   "execution_count": 16,
   "metadata": {},
   "outputs": [
    {
     "name": "stdout",
     "output_type": "stream",
     "text": [
      "these are mountains /\\/\\/\\/\\\n"
     ]
    }
   ],
   "source": [
    "# these are mountains /\\/\\/\\/\\/\\\n",
    "print (\"these are mountains /\\/\\/\\/\\\\\")"
   ]
  },
  {
   "cell_type": "code",
   "execution_count": 4,
   "metadata": {},
   "outputs": [
    {
     "name": "stdout",
     "output_type": "stream",
     "text": [
      "he is \t awsome\n"
     ]
    }
   ],
   "source": [
    "# he is      awsome\n",
    "print(\"he is \\t awsome\")"
   ]
  },
  {
   "cell_type": "code",
   "execution_count": null,
   "metadata": {},
   "outputs": [],
   "source": [
    "# \\\"=\"\n",
    "# \\\\=\\\n",
    "# \\\\\\\"=\\\""
   ]
  },
  {
   "cell_type": "code",
   "execution_count": 8,
   "metadata": {},
   "outputs": [
    {
     "name": "stdout",
     "output_type": "stream",
     "text": [
      " \\\"  \\n \\t \\'  \n"
     ]
    }
   ],
   "source": [
    "# \\\" \\n \\t \\'\n",
    "print(\" \\\\\\\"  \\\\n \\\\t \\\\\\'  \")"
   ]
  },
  {
   "cell_type": "code",
   "execution_count": 17,
   "metadata": {},
   "outputs": [
    {
     "name": "stdout",
     "output_type": "stream",
     "text": [
      "A line \n",
      " B line\n"
     ]
    }
   ],
   "source": [
    "# RAW STRINGS r\n",
    "#r treats escape sequences as normal strings and simply print it\n",
    "print(\"A line \\n B line\")"
   ]
  },
  {
   "cell_type": "code",
   "execution_count": 19,
   "metadata": {},
   "outputs": [
    {
     "name": "stdout",
     "output_type": "stream",
     "text": [
      "Aline \\n B line\n"
     ]
    }
   ],
   "source": [
    "print(r\"Aline \\n B line\")"
   ]
  },
  {
   "cell_type": "code",
   "execution_count": 35,
   "metadata": {},
   "outputs": [
    {
     "name": "stdout",
     "output_type": "stream",
     "text": [
      "enter 3 numbers:3,3,3\n",
      "the average of 3 3 3 is :3.0\n"
     ]
    }
   ],
   "source": [
    "a,b,c=input(\"enter 3 numbers:\").split(\",\")\n",
    "print(f\"the average of {a} {b} {c} is :{(int(a)+int(b)+int(c))/3}\")\n"
   ]
  }
 ],
 "metadata": {
  "kernelspec": {
   "display_name": "Python 3",
   "language": "python",
   "name": "python3"
  },
  "language_info": {
   "codemirror_mode": {
    "name": "ipython",
    "version": 3
   },
   "file_extension": ".py",
   "mimetype": "text/x-python",
   "name": "python",
   "nbconvert_exporter": "python",
   "pygments_lexer": "ipython3",
   "version": "3.7.3"
  }
 },
 "nbformat": 4,
 "nbformat_minor": 2
}
