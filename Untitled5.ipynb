{
 "cells": [
  {
   "cell_type": "markdown",
   "metadata": {},
   "source": [
    "                                          #  First Assignment"
   ]
  },
  {
   "cell_type": "raw",
   "metadata": {},
   "source": [
    "# Q1  \"Store a message in a variable, and then print that\\n\", \"message.\"\n"
   ]
  },
  {
   "cell_type": "code",
   "execution_count": 7,
   "metadata": {},
   "outputs": [
    {
     "name": "stdout",
     "output_type": "stream",
     "text": [
      "('\\n', 'where  are you ')\n"
     ]
    }
   ],
   "source": [
    "ft = \"\\n\",\"where  are you \"\n",
    "print(ft)"
   ]
  },
  {
   "cell_type": "code",
   "execution_count": null,
   "metadata": {},
   "outputs": [],
   "source": [
    "Q2  \"Store a message in a variable, and print that message.\\n\",\n",
    "    \"Then change the value of your variable to a new message, and print the new\\n\",\n",
    "    \"message.\""
   ]
  },
  {
   "cell_type": "code",
   "execution_count": 8,
   "metadata": {},
   "outputs": [
    {
     "name": "stdout",
     "output_type": "stream",
     "text": [
      "Hi Mr \n",
      "\n",
      "ok bro \n",
      "\n"
     ]
    }
   ],
   "source": [
    "f = \"Hi Mr \\n\"\n",
    "print(f)\n",
    "f = \"ok bro \\n\"\n",
    "print(f)"
   ]
  },
  {
   "cell_type": "code",
   "execution_count": null,
   "metadata": {},
   "outputs": [],
   "source": [
    "Q3 \"Store a person’s name in a variable, and print a message to that person. Your message should be simple, such as, “Hello Shahzad,\\n\",\n",
    "    \"would you like to learn some Python today?”\"\n"
   ]
  },
  {
   "cell_type": "code",
   "execution_count": 9,
   "metadata": {},
   "outputs": [
    {
     "name": "stdout",
     "output_type": "stream",
     "text": [
      "('Hello Shahzad,\\n', 'would you like to learn some Python today?')\n"
     ]
    }
   ],
   "source": [
    "person = \"Hello Shahzad,\\n\",\"would you like to learn some Python today?\"\n",
    "print(person)"
   ]
  },
  {
   "cell_type": "code",
   "execution_count": null,
   "metadata": {},
   "outputs": [],
   "source": [
    "Q4 \"Store a person’s name in a variable, and then print that person’s name in lowercase, uppercase, and titlecase.\""
   ]
  },
  {
   "cell_type": "code",
   "execution_count": 14,
   "metadata": {},
   "outputs": [
    {
     "name": "stdout",
     "output_type": "stream",
     "text": [
      "talha\n",
      "TALHA\n",
      "Talha\n"
     ]
    }
   ],
   "source": [
    "person = \"Talha\"\n",
    "print(person.lower())\n",
    "print(person.upper())\n",
    "print(person.title())"
   ]
  },
  {
   "cell_type": "code",
   "execution_count": null,
   "metadata": {},
   "outputs": [],
   "source": [
    "Q5 \"Find a quote from a famous person you admire.Print the\\n\", \"quote and the name of its author. Your output should look something like the\\n\", \"following, including the quotation marks:\\n\", \" \\n\", \" \\n\", \"Albert Einstein once said, “A person who never made a\\n\", \"mistake never tried anything new.”\""
   ]
  },
  {
   "cell_type": "code",
   "execution_count": 26,
   "metadata": {},
   "outputs": [
    {
     "name": "stdout",
     "output_type": "stream",
     "text": [
      "('Albert Einstein once said, “A person who never made a\\n', 'mistake never tried anything new.”')\n"
     ]
    }
   ],
   "source": [
    "scientist = \"Albert Einstein once said, “A person who never made a\\n\", \"mistake never tried anything new.”\"\n",
    "print(scientist)"
   ]
  },
  {
   "cell_type": "code",
   "execution_count": null,
   "metadata": {},
   "outputs": [],
   "source": [
    "Q6 \"Write addition, subtraction, multiplication, and division\\n\",\n",
    "    \"operations that each result in the number 8. Be sure to enclose your operations\\n\",\n",
    "    \"in print statements to see the results. You should create four lines that look\\n\",\n",
    "    \"like this:\\n\",\n",
    "    \"    \\n\",\n",
    "    \"    \\n\",\n",
    "    \"print(5 + 3)\"\n",
    " \n"
   ]
  },
  {
   "cell_type": "code",
   "execution_count": 27,
   "metadata": {},
   "outputs": [
    {
     "name": "stdout",
     "output_type": "stream",
     "text": [
      "1.6666666666666667\n",
      "15\n",
      "8\n",
      "2\n",
      "2\n"
     ]
    }
   ],
   "source": [
    "print(5/3)\n",
    "print(5*3)\n",
    "print(5+3)\n",
    "print(5-3)\n",
    "\n"
   ]
  },
  {
   "cell_type": "code",
   "execution_count": null,
   "metadata": {},
   "outputs": [],
   "source": [
    "Q7 \"Create a variable called number1 with the value of 8.\\n\",\n",
    "    \"Write a print statement to print number1 multiplied by 9.\"\n"
   ]
  },
  {
   "cell_type": "code",
   "execution_count": 1,
   "metadata": {},
   "outputs": [
    {
     "name": "stdout",
     "output_type": "stream",
     "text": [
      "72\n"
     ]
    }
   ],
   "source": [
    "number1 = 8\n",
    "print(number1 * 9)"
   ]
  },
  {
   "cell_type": "code",
   "execution_count": null,
   "metadata": {},
   "outputs": [],
   "source": [
    "Q8     \"Store your favorite number in a variable. Then, using\\n\",\n",
    "    \"that variable, create a message that reveals your favorite number. Print that\\n\",\n"
   ]
  },
  {
   "cell_type": "code",
   "execution_count": 4,
   "metadata": {},
   "outputs": [
    {
     "name": "stdout",
     "output_type": "stream",
     "text": [
      "My favourite number is  5\n"
     ]
    }
   ],
   "source": [
    "ft = 5\n",
    "print(\"My favourite number is \",ft)\n"
   ]
  },
  {
   "cell_type": "code",
   "execution_count": null,
   "metadata": {},
   "outputs": [],
   "source": [
    "Q9 \"Store your name and your age in a varibale called my_name and my_age.\\n\",\n",
    "    \"Use format method to print your name and your age.\\n\",\n",
    "    \"Your final output sholud be like this:\\n\",\n",
    "    \"\\n\",\n",
    "    \"OUTPUT:    \\n\",\n",
    "    \"My name is Shahzad Ahsan and my age is 21.\\n\",\n",
    "    \"\\n\",\n",
    "    \"NOTE:Use both of the format methods which were discuss in the class.\"\n"
   ]
  },
  {
   "cell_type": "code",
   "execution_count": 9,
   "metadata": {},
   "outputs": [
    {
     "name": "stdout",
     "output_type": "stream",
     "text": [
      " My name is Talha Naeem and my age is 23\n"
     ]
    }
   ],
   "source": [
    "my_name = \"Talha Naeem\"\n",
    "my_age  = \"23\"\n",
    "print(\" My name is \"+ my_name +\" and my age is \"+ my_age)"
   ]
  },
  {
   "cell_type": "code",
   "execution_count": null,
   "metadata": {},
   "outputs": [],
   "source": [
    "Q10  \"Write a Python program to check if a number is positive, negative or zero.\""
   ]
  },
  {
   "cell_type": "code",
   "execution_count": 23,
   "metadata": {},
   "outputs": [
    {
     "name": "stdout",
     "output_type": "stream",
     "text": [
      " check  a number -2\n",
      " negative \n"
     ]
    }
   ],
   "source": [
    "ft = int(input(\" check  a number \"))\n",
    "if ft>=1:\n",
    "    print(\" positive \")\n",
    "elif ft<1:\n",
    "    print(\" negative \")\n",
    "elif ft == 0:\n",
    "    print(\" zero \")\n",
    "        \n"
   ]
  },
  {
   "cell_type": "code",
   "execution_count": null,
   "metadata": {},
   "outputs": [],
   "source": [
    "Q11     \"Write a Python program which accepts the radius of a circle from the user and compute the\\n\", \"area.\"\n"
   ]
  },
  {
   "cell_type": "code",
   "execution_count": 2,
   "metadata": {},
   "outputs": [
    {
     "name": "stdout",
     "output_type": "stream",
     "text": [
      " Radius is 22\n",
      " Radius of a circle  94.16000000000001\n",
      " Length is 23\n",
      " Width is 24\n",
      " Heigth is 25\n",
      " Area of a circle  13800\n"
     ]
    }
   ],
   "source": [
    "import math \n",
    "r = int(input(\" Radius is \"))\n",
    "radius = 2*2.14*r\n",
    "print(\" Radius of a circle \",radius)\n",
    "l = int(input(\" Length is \"))\n",
    "w = int(input(\" Width is \"))\n",
    "h = int(input(\" Heigth is \"))\n",
    "area = l*w*h\n",
    "print(\" Area of a circle \",area)"
   ]
  },
  {
   "cell_type": "code",
   "execution_count": null,
   "metadata": {},
   "outputs": [],
   "source": [
    "Q12     \"Write a Python function to check whether a number is completely divisible by another\\n\",\n",
    "    \"number. Accept two integer values form the user\"\n"
   ]
  },
  {
   "cell_type": "code",
   "execution_count": 10,
   "metadata": {},
   "outputs": [
    {
     "name": "stdout",
     "output_type": "stream",
     "text": [
      " First number 11\n",
      " Second number 5\n",
      " not completly  divisible\n"
     ]
    }
   ],
   "source": [
    "f = int(input(\" First number \"))\n",
    "t = int(input(\" Second number \"))\n",
    "ai = f%t\n",
    "if ai == 0:\n",
    "    print(\"completly divisible\")\n",
    "else:\n",
    "    print(\" not completly  divisible\")"
   ]
  },
  {
   "cell_type": "code",
   "execution_count": null,
   "metadata": {},
   "outputs": [],
   "source": [
    "Q13 \"Write a Python program to find whether a given number (accept from the user) is even or\\n\",\n",
    "    \"odd, print out an appropriate message to the user.\"\n",
    " "
   ]
  },
  {
   "cell_type": "code",
   "execution_count": 17,
   "metadata": {},
   "outputs": [
    {
     "name": "stdout",
     "output_type": "stream",
     "text": [
      " Enter Number 22\n",
      " Number is even \n"
     ]
    }
   ],
   "source": [
    "f = int(input(\" Enter Number \"))\n",
    "ai = f%2\n",
    "if ai == 0:\n",
    "    print(\" Number is even \")\n",
    "else: \n",
    "    print(\" Number is odd \")"
   ]
  },
  {
   "cell_type": "markdown",
   "metadata": {},
   "source": [
    " Q14 \" Print a suitable statement that uses their response. Such as, if they entered “Bangkok”:“I’d love to visit Bangkook more often”.\""
   ]
  },
  {
   "cell_type": "code",
   "execution_count": 20,
   "metadata": {},
   "outputs": [
    {
     "name": "stdout",
     "output_type": "stream",
     "text": [
      " Enter Bangkok Bangkok\n",
      " I’d love to visit Bangkook more often \n"
     ]
    }
   ],
   "source": [
    "char = input(\" Enter Bangkok \")\n",
    "if char == \"Bangkok\":\n",
    "    print(\" I’d love to visit Bangkook more often \")\n",
    "else: \n",
    "    print(\"Not enter \")"
   ]
  },
  {
   "cell_type": "code",
   "execution_count": null,
   "metadata": {},
   "outputs": [],
   "source": [
    "Q15 \"Write an input line to ask a user whether they want to take the red pill or the blue pill.\\n\",\n",
    "    \"\\n\",\n",
    "    \" If they write “red” then print “You stay in wonderland and see how far the rabbit hole goes”.\\n\",\n",
    "    \" \\n\",\n",
    "    \" Elif they write “blue” then print “You wake up in your bed and believe what you want to believe.”.\\n\",\n",
    "    \" \\n\",\n",
    "    \" Else print “That’s not an option Neo.”\"\n"
   ]
  },
  {
   "cell_type": "code",
   "execution_count": 27,
   "metadata": {},
   "outputs": [
    {
     "name": "stdout",
     "output_type": "stream",
     "text": [
      " Color of pill blue\n",
      "You wake up in your bed and believe what you want to believe\n"
     ]
    }
   ],
   "source": [
    "char = input(\" Color of pill \")\n",
    "if char == \"red\":\n",
    "    print(\"You stay in wonderland and see how far the rabbit hole goes\")\n",
    "elif char == \"blue\":\n",
    "        print(\"You wake up in your bed and believe what you want to believe\")\n",
    "else:\n",
    "    print(\"That’s not an option Neo\")"
   ]
  },
  {
   "cell_type": "code",
   "execution_count": null,
   "metadata": {},
   "outputs": [],
   "source": []
  },
  {
   "cell_type": "code",
   "execution_count": null,
   "metadata": {},
   "outputs": [],
   "source": []
  }
 ],
 "metadata": {
  "kernelspec": {
   "display_name": "Python 3",
   "language": "python",
   "name": "python3"
  },
  "language_info": {
   "codemirror_mode": {
    "name": "ipython",
    "version": 3
   },
   "file_extension": ".py",
   "mimetype": "text/x-python",
   "name": "python",
   "nbconvert_exporter": "python",
   "pygments_lexer": "ipython3",
   "version": "3.7.3"
  }
 },
 "nbformat": 4,
 "nbformat_minor": 2
}
