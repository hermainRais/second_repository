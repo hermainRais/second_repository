{
 "cells": [
  {
   "cell_type": "markdown",
   "metadata": {},
   "source": [
    "# FUNCTIONS IN PYTHON"
   ]
  },
  {
   "cell_type": "code",
   "execution_count": null,
   "metadata": {},
   "outputs": [],
   "source": [
    "#WE USE FUNCTIONS FOR REUSEABILITY OF CODE (DEFINATION OF FUNCTION)"
   ]
  },
  {
   "cell_type": "code",
   "execution_count": 1,
   "metadata": {},
   "outputs": [
    {
     "name": "stdout",
     "output_type": "stream",
     "text": [
      "46\n"
     ]
    }
   ],
   "source": [
    "#REQUIRED THESE 4  5 LINES MANY TIMES AND DIFFERENT PLACES\n",
    "A=12\n",
    "B=34\n",
    "C=A+B\n",
    "print(C)"
   ]
  },
  {
   "cell_type": "code",
   "execution_count": 2,
   "metadata": {},
   "outputs": [],
   "source": [
    "#function making (def=defining)\n",
    "def add_two_numbers():\n",
    "    A=12\n",
    "    B=34\n",
    "    C=A+B\n",
    "    print(C)"
   ]
  },
  {
   "cell_type": "code",
   "execution_count": 3,
   "metadata": {},
   "outputs": [
    {
     "name": "stdout",
     "output_type": "stream",
     "text": [
      "46\n"
     ]
    }
   ],
   "source": [
    "#function calling\n",
    "add_two_numbers()"
   ]
  },
  {
   "cell_type": "code",
   "execution_count": 4,
   "metadata": {},
   "outputs": [],
   "source": [
    "#function defination\n",
    "def print_name():\n",
    "    print(\"hermain rais\")"
   ]
  },
  {
   "cell_type": "code",
   "execution_count": 5,
   "metadata": {},
   "outputs": [
    {
     "name": "stdout",
     "output_type": "stream",
     "text": [
      "hermain rais\n"
     ]
    }
   ],
   "source": [
    "#function calling\n",
    "print_name()"
   ]
  },
  {
   "cell_type": "code",
   "execution_count": 7,
   "metadata": {},
   "outputs": [],
   "source": [
    "# name is the parameter of function\n",
    "#these type of functions that has a parameter are called \"parametrised function\"\n",
    "def greeting(name):\n",
    "    print(f\"you are welcome {name}\")"
   ]
  },
  {
   "cell_type": "code",
   "execution_count": 8,
   "metadata": {},
   "outputs": [
    {
     "name": "stdout",
     "output_type": "stream",
     "text": [
      "you are welcome hermain\n"
     ]
    }
   ],
   "source": [
    "#calling greeting function\n",
    "#value supply in parenthesis is called an \"argument\"\n",
    "greeting(\"hermain\")"
   ]
  },
  {
   "cell_type": "code",
   "execution_count": 9,
   "metadata": {},
   "outputs": [
    {
     "ename": "TypeError",
     "evalue": "greeting() missing 1 required positional argument: 'name'",
     "output_type": "error",
     "traceback": [
      "\u001b[1;31m---------------------------------------------------------------------------\u001b[0m",
      "\u001b[1;31mTypeError\u001b[0m                                 Traceback (most recent call last)",
      "\u001b[1;32m<ipython-input-9-ef84b0d204d7>\u001b[0m in \u001b[0;36m<module>\u001b[1;34m\u001b[0m\n\u001b[0;32m      1\u001b[0m \u001b[1;31m#error in parametrised function\u001b[0m\u001b[1;33m\u001b[0m\u001b[1;33m\u001b[0m\u001b[1;33m\u001b[0m\u001b[0m\n\u001b[1;32m----> 2\u001b[1;33m \u001b[0mgreeting\u001b[0m\u001b[1;33m(\u001b[0m\u001b[1;33m)\u001b[0m\u001b[1;33m\u001b[0m\u001b[1;33m\u001b[0m\u001b[0m\n\u001b[0m",
      "\u001b[1;31mTypeError\u001b[0m: greeting() missing 1 required positional argument: 'name'"
     ]
    }
   ],
   "source": [
    "#error in parametrised function\n",
    "greeting()"
   ]
  },
  {
   "cell_type": "code",
   "execution_count": 23,
   "metadata": {},
   "outputs": [],
   "source": [
    "#defining function\n",
    "#              '''it is a function'''\n",
    "def sum(a,b):\n",
    "   print(f\"the sum of values {a} and {b} is {a+b}\")"
   ]
  },
  {
   "cell_type": "code",
   "execution_count": 18,
   "metadata": {},
   "outputs": [
    {
     "name": "stdout",
     "output_type": "stream",
     "text": [
      "the sum of values 5 and 5 is 10\n"
     ]
    }
   ],
   "source": [
    "#calling function\n",
    "sum(5,5)"
   ]
  },
  {
   "cell_type": "code",
   "execution_count": 43,
   "metadata": {},
   "outputs": [],
   "source": [
    "def print_fullname(fname,lname):\n",
    "        fullname=f\"{fname} {lname}\"\n",
    "        print(f\"hello ! your first name is {fname} your last name is {lname}\") #positional arguments or keyword argument\n",
    "        print(f\"full name is {fullname}\")"
   ]
  },
  {
   "cell_type": "code",
   "execution_count": 45,
   "metadata": {},
   "outputs": [
    {
     "name": "stdout",
     "output_type": "stream",
     "text": [
      "hello ! your first name is hermain your last name is rais\n",
      "full name is hermain rais\n"
     ]
    }
   ],
   "source": [
    "print_fullname(fname='hermain',lname='rais')"
   ]
  },
  {
   "cell_type": "code",
   "execution_count": 46,
   "metadata": {},
   "outputs": [],
   "source": [
    "#default value center me nahe asakti \n",
    "#default value in function\n",
    "def print_fullname2(fname,lname,mname=\"no middle name\"):\n",
    "        fullname=f\"{fname} {mname} {lname}\"\n",
    "        print(f\"hello ! your first name is {fname} your last name is {lname}\") #positional arguments or keyword argument\n",
    "        print(f\"full name is {fullname}\")"
   ]
  },
  {
   "cell_type": "code",
   "execution_count": 48,
   "metadata": {},
   "outputs": [
    {
     "name": "stdout",
     "output_type": "stream",
     "text": [
      "hello ! your first name is hermain your last name is rais\n",
      "full name is hermain no middle name rais\n"
     ]
    }
   ],
   "source": [
    "print_fullname2(fname='hermain',lname='rais')"
   ]
  },
  {
   "cell_type": "code",
   "execution_count": 54,
   "metadata": {},
   "outputs": [],
   "source": [
    "def sub(a,b):\n",
    "    w=a-b\n",
    "   # print(w) within function so w is local variable scope only under the function\n",
    "    return w #now global variable"
   ]
  },
  {
   "cell_type": "code",
   "execution_count": 52,
   "metadata": {},
   "outputs": [
    {
     "data": {
      "text/plain": [
       "5"
      ]
     },
     "execution_count": 52,
     "metadata": {},
     "output_type": "execute_result"
    }
   ],
   "source": [
    "sub(8,3)"
   ]
  },
  {
   "cell_type": "code",
   "execution_count": null,
   "metadata": {},
   "outputs": [],
   "source": [
    "#two types of variables\n",
    "#1)local variable(with in function scope)\n",
    "#2)global variable (averywhere in code scope)"
   ]
  },
  {
   "cell_type": "code",
   "execution_count": 56,
   "metadata": {},
   "outputs": [
    {
     "name": "stdout",
     "output_type": "stream",
     "text": [
      "100\n"
     ]
    }
   ],
   "source": [
    "#now this returnValue  variable is global scope\n",
    "returnValue=sub(200,100)\n",
    "print(returnValue)"
   ]
  },
  {
   "cell_type": "code",
   "execution_count": null,
   "metadata": {},
   "outputs": [],
   "source": [
    "def sub(a,b):\n",
    "    w=a-b\n",
    "   # print(w) within function so w is local variable scope only under the function\n",
    "    return w #now global variable\n",
    "    print(\"this line is not execute because return must be the last line of the function\") #as soon as compiler reads return keyword within the function's body the rest of the line after the return's keyword will not execute"
   ]
  },
  {
   "cell_type": "code",
   "execution_count": 57,
   "metadata": {},
   "outputs": [
    {
     "name": "stdout",
     "output_type": "stream",
     "text": [
      "395\n"
     ]
    }
   ],
   "source": [
    "returnValue=sub(400,5)\n",
    "print(returnValue)"
   ]
  },
  {
   "cell_type": "code",
   "execution_count": 58,
   "metadata": {},
   "outputs": [],
   "source": [
    "#how many values can return returns\n",
    "#yes return can return more than one value in the form of tuppke\n",
    "def sub(a,b):\n",
    "    w=a-b\n",
    "   # print(w) within function so w is local variable scope only under the function\n",
    "    return w,\"more than two values are return by return keyword in the form of tupple\" #now global variable\n",
    "    print(\"this line is not execute because return must be the last line of the function\") #as soon as compiler reads return keyword within the function's body the rest of the line after the return's keyword will not execute\n"
   ]
  },
  {
   "cell_type": "code",
   "execution_count": 59,
   "metadata": {},
   "outputs": [
    {
     "name": "stdout",
     "output_type": "stream",
     "text": [
      "(395, 'more than two values are return by return keyword in the form of tupple')\n"
     ]
    }
   ],
   "source": [
    "returnValue=sub(400,5)\n",
    "print(returnValue)"
   ]
  },
  {
   "cell_type": "code",
   "execution_count": 62,
   "metadata": {},
   "outputs": [
    {
     "name": "stdout",
     "output_type": "stream",
     "text": [
      "11 im a local global\n"
     ]
    }
   ],
   "source": [
    "#is a local variable can be made global\n",
    "def sub(u,v):\n",
    "    global q\n",
    "    q=\"im a local global\"\n",
    "    w=u-v\n",
    "    return w\n",
    "print(sub(15,4),q)"
   ]
  },
  {
   "cell_type": "code",
   "execution_count": null,
   "metadata": {},
   "outputs": [],
   "source": []
  }
 ],
 "metadata": {
  "kernelspec": {
   "display_name": "Python 3",
   "language": "python",
   "name": "python3"
  },
  "language_info": {
   "codemirror_mode": {
    "name": "ipython",
    "version": 3
   },
   "file_extension": ".py",
   "mimetype": "text/x-python",
   "name": "python",
   "nbconvert_exporter": "python",
   "pygments_lexer": "ipython3",
   "version": "3.7.3"
  }
 },
 "nbformat": 4,
 "nbformat_minor": 2
}
