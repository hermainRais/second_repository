{
 "cells": [
  {
   "cell_type": "markdown",
   "metadata": {},
   "source": [
    "# To do List: 1"
   ]
  },
  {
   "cell_type": "code",
   "execution_count": 66,
   "metadata": {},
   "outputs": [
    {
     "name": "stdout",
     "output_type": "stream",
     "text": [
      "Enter the item: Eggs\n",
      "\n",
      "Groceries items are left:\n",
      "['oil', 'flour', 'rice', 'cheez']\n",
      "\n",
      "That Item is done: \n",
      "['eggs']\n"
     ]
    }
   ],
   "source": [
    "task =['oil' , 'flour' , 'eggs' , 'rice' , 'cheez']\n",
    "shopping = []\n",
    "\n",
    "items = input('Enter the item: ').lower()\n",
    "\n",
    "if items in task:\n",
    "    item1 = task.index(items)\n",
    "\n",
    "    poppedValue=task.pop(item1)\n",
    "    \n",
    "    shopping.append(poppedValue)\n",
    "    print('\\nGroceries items are left:')\n",
    "\n",
    "\n",
    "    print(task)\n",
    "    print('\\nThat Item is done: ')\n",
    "       \n",
    "    print(shopping) \n",
    "\n",
    "else:\n",
    "    print('Your item is not in the list')"
   ]
  },
  {
   "cell_type": "markdown",
   "metadata": {},
   "source": [
    "# To Do list: 2"
   ]
  },
  {
   "cell_type": "code",
   "execution_count": 64,
   "metadata": {},
   "outputs": [
    {
     "name": "stdout",
     "output_type": "stream",
     "text": [
      "Enter the item: oil\n",
      "\n",
      "Groceries items are left:\n",
      "['flour', 'eggs', 'rice', 'cheez']\n",
      "\n",
      "That Item is done: \n",
      "['oil']\n"
     ]
    }
   ],
   "source": [
    "task =['oil' , 'flour' , 'eggs' , 'rice' , 'cheez']\n",
    "shopping = []\n",
    "\n",
    "items = input('Enter the item: ').lower()\n",
    "\n",
    "item1 = task.index(items)\n",
    "\n",
    "poppedValue=task.pop(item1)\n",
    "    \n",
    "shopping.append(poppedValue)\n",
    "print('\\nGroceries items are left:')\n",
    "\n",
    "\n",
    "print(task)\n",
    "print('\\nThat Item is done: ')\n",
    "       \n",
    "print(shopping) "
   ]
  }
 ],
 "metadata": {
  "kernelspec": {
   "display_name": "Python 3",
   "language": "python",
   "name": "python3"
  },
  "language_info": {
   "codemirror_mode": {
    "name": "ipython",
    "version": 3
   },
   "file_extension": ".py",
   "mimetype": "text/x-python",
   "name": "python",
   "nbconvert_exporter": "python",
   "pygments_lexer": "ipython3",
   "version": "3.7.3"
  }
 },
 "nbformat": 4,
 "nbformat_minor": 2
}
